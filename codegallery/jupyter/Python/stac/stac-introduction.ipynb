{
 "cells": [
  {
   "cell_type": "markdown",
   "metadata": {},
   "source": [
    "\n",
    "\n",
    "# <span style=\"color:#336699\">Introduction to the SpatioTemporal Asset Catalog (STAC)</span>\n",
    "<hr style=\"border:2px solid #0077b9;\">\n",
    "\n",
    "<br/>\n",
    "\n",
    "<b>Abstract.</b> This Jupyter Notebook gives an overview on how to use the data.geo.admin.ch STAC service to discover and access the data products of  <em>SwissEO</em>.\n",
    "\n",
    "\n",
    "<br/>\n"
   ]
  },
  {
   "cell_type": "markdown",
   "metadata": {},
   "source": [
    "\n",
    "# Introduction\n",
    "<hr style=\"border:1px solid #0077b9;\">"
   ]
  },
  {
   "cell_type": "markdown",
   "metadata": {
    "id": "yZn7b78KPQDG"
   },
   "source": [
    "The [**S**patio**T**emporal **A**sset **C**atalog (STAC)](https://stacspec.org/) is a specification created through the colaboration of several organizations intended to increase satellite image search interoperability.\n",
    "\n",
    "The diagram depicted in the picture contains the most important concepts behind the STAC data model:\n",
    "\n",
    "<center>\n",
    "<img src=\"../../../img/stac/stac-concept.png\" width=\"480\" />\n",
    "<br/>\n",
    "<b>Figure 1</b> - STAC model.\n",
    "</center>\n",
    "\n",
    "The description of the concepts below are adapted from the [STAC Specification](https://github.com/radiantearth/stac-spec):\n",
    "\n",
    "- **Item**: a `STAC Item` is the atomic unit of metadata in STAC, providing links to the actual `assets` (including thumbnails) that they represent. It is a `GeoJSON Feature` with additional fields for things like time, links to related entities and mainly to the assets. According to the specification, this is the atomic unit that describes the data to be discovered in a `STAC Catalog` or `Collection`.\n",
    "\n",
    "- **Asset**: a `spatiotemporal asset` is any file that represents information about the earth captured in a certain space and time.\n",
    "\n",
    "\n",
    "- **Catalog**: provides a structure to link various `STAC Items` together or even to other `STAC Catalogs` or `Collections`.\n",
    "\n",
    "\n",
    "- **Collection:** is a specialization of the `Catalog` that allows additional information about a spatio-temporal collection of data."
   ]
  },
  {
   "cell_type": "markdown",
   "metadata": {},
   "source": [
    "# STAC Client API\n",
    "<hr style=\"border:1px solid #0077b9;\">\n",
    "\n",
    "For running the examples in this Jupyter Notebook you will need to install the [pystac-client](https://pystac-client.readthedocs.io/en/latest/). To install it from PyPI using `pip`, use the following command:"
   ]
  },
  {
   "cell_type": "code",
   "execution_count": 1,
   "metadata": {},
   "outputs": [
    {
     "name": "stdout",
     "output_type": "stream",
     "text": [
      "Requirement already satisfied: pystac-client in /media/menas/data/projects/satromo-dev/.venv/lib/python3.10/site-packages (0.8.5)\n",
      "Requirement already satisfied: requests>=2.28.2 in /media/menas/data/projects/satromo-dev/.venv/lib/python3.10/site-packages (from pystac-client) (2.32.3)\n",
      "Requirement already satisfied: pystac>=1.10.0 in /media/menas/data/projects/satromo-dev/.venv/lib/python3.10/site-packages (from pystac[validation]>=1.10.0->pystac-client) (1.11.0)\n",
      "Requirement already satisfied: python-dateutil>=2.8.2 in /media/menas/data/projects/satromo-dev/.venv/lib/python3.10/site-packages (from pystac-client) (2.8.2)\n",
      "Requirement already satisfied: jsonschema~=4.18 in /media/menas/data/projects/satromo-dev/.venv/lib/python3.10/site-packages (from pystac[validation]>=1.10.0->pystac-client) (4.23.0)\n",
      "Requirement already satisfied: six>=1.5 in /media/menas/data/projects/satromo-dev/.venv/lib/python3.10/site-packages (from python-dateutil>=2.8.2->pystac-client) (1.16.0)\n",
      "Requirement already satisfied: charset-normalizer<4,>=2 in /media/menas/data/projects/satromo-dev/.venv/lib/python3.10/site-packages (from requests>=2.28.2->pystac-client) (3.1.0)\n",
      "Requirement already satisfied: idna<4,>=2.5 in /media/menas/data/projects/satromo-dev/.venv/lib/python3.10/site-packages (from requests>=2.28.2->pystac-client) (3.7)\n",
      "Requirement already satisfied: urllib3<3,>=1.21.1 in /media/menas/data/projects/satromo-dev/.venv/lib/python3.10/site-packages (from requests>=2.28.2->pystac-client) (1.26.19)\n",
      "Requirement already satisfied: certifi>=2017.4.17 in /media/menas/data/projects/satromo-dev/.venv/lib/python3.10/site-packages (from requests>=2.28.2->pystac-client) (2024.8.30)\n",
      "Requirement already satisfied: attrs>=22.2.0 in /media/menas/data/projects/satromo-dev/.venv/lib/python3.10/site-packages (from jsonschema~=4.18->pystac[validation]>=1.10.0->pystac-client) (23.1.0)\n",
      "Requirement already satisfied: jsonschema-specifications>=2023.03.6 in /media/menas/data/projects/satromo-dev/.venv/lib/python3.10/site-packages (from jsonschema~=4.18->pystac[validation]>=1.10.0->pystac-client) (2024.10.1)\n",
      "Requirement already satisfied: referencing>=0.28.4 in /media/menas/data/projects/satromo-dev/.venv/lib/python3.10/site-packages (from jsonschema~=4.18->pystac[validation]>=1.10.0->pystac-client) (0.35.1)\n",
      "Requirement already satisfied: rpds-py>=0.7.1 in /media/menas/data/projects/satromo-dev/.venv/lib/python3.10/site-packages (from jsonschema~=4.18->pystac[validation]>=1.10.0->pystac-client) (0.21.0)\n"
     ]
    }
   ],
   "source": [
    "!pip install pystac-client"
   ]
  },
  {
   "cell_type": "code",
   "execution_count": 2,
   "metadata": {
    "colab": {
     "base_uri": "https://localhost:8080/",
     "height": 311
    },
    "id": "RhG89dwJPQDM",
    "outputId": "c50d7fb0-3ca0-4481-e80f-acfd4ad4017e"
   },
   "outputs": [
    {
     "name": "stdout",
     "output_type": "stream",
     "text": [
      "Requirement already satisfied: rasterio in /media/menas/data/projects/satromo-dev/.venv/lib/python3.10/site-packages (1.3.8)\n",
      "Requirement already satisfied: shapely in /media/menas/data/projects/satromo-dev/.venv/lib/python3.10/site-packages (2.0.1)\n",
      "Requirement already satisfied: matplotlib in /media/menas/data/projects/satromo-dev/.venv/lib/python3.10/site-packages (3.9.2)\n",
      "Requirement already satisfied: tqdm in /media/menas/data/projects/satromo-dev/.venv/lib/python3.10/site-packages (4.67.1)\n",
      "Requirement already satisfied: affine in /media/menas/data/projects/satromo-dev/.venv/lib/python3.10/site-packages (from rasterio) (2.4.0)\n",
      "Requirement already satisfied: attrs in /media/menas/data/projects/satromo-dev/.venv/lib/python3.10/site-packages (from rasterio) (23.1.0)\n",
      "Requirement already satisfied: certifi in /media/menas/data/projects/satromo-dev/.venv/lib/python3.10/site-packages (from rasterio) (2024.8.30)\n",
      "Requirement already satisfied: click>=4.0 in /media/menas/data/projects/satromo-dev/.venv/lib/python3.10/site-packages (from rasterio) (8.1.7)\n",
      "Requirement already satisfied: cligj>=0.5 in /media/menas/data/projects/satromo-dev/.venv/lib/python3.10/site-packages (from rasterio) (0.7.2)\n",
      "Requirement already satisfied: numpy>=1.18 in /media/menas/data/projects/satromo-dev/.venv/lib/python3.10/site-packages (from rasterio) (1.25.2)\n",
      "Requirement already satisfied: snuggs>=1.4.1 in /media/menas/data/projects/satromo-dev/.venv/lib/python3.10/site-packages (from rasterio) (1.4.7)\n",
      "Requirement already satisfied: click-plugins in /media/menas/data/projects/satromo-dev/.venv/lib/python3.10/site-packages (from rasterio) (1.1.1)\n",
      "Requirement already satisfied: setuptools in /media/menas/data/projects/satromo-dev/.venv/lib/python3.10/site-packages (from rasterio) (68.1.2)\n",
      "Requirement already satisfied: contourpy>=1.0.1 in /media/menas/data/projects/satromo-dev/.venv/lib/python3.10/site-packages (from matplotlib) (1.3.1)\n",
      "Requirement already satisfied: cycler>=0.10 in /media/menas/data/projects/satromo-dev/.venv/lib/python3.10/site-packages (from matplotlib) (0.12.1)\n",
      "Requirement already satisfied: fonttools>=4.22.0 in /media/menas/data/projects/satromo-dev/.venv/lib/python3.10/site-packages (from matplotlib) (4.55.0)\n",
      "Requirement already satisfied: kiwisolver>=1.3.1 in /media/menas/data/projects/satromo-dev/.venv/lib/python3.10/site-packages (from matplotlib) (1.4.7)\n",
      "Requirement already satisfied: packaging>=20.0 in /media/menas/data/projects/satromo-dev/.venv/lib/python3.10/site-packages (from matplotlib) (24.0)\n",
      "Requirement already satisfied: pillow>=8 in /media/menas/data/projects/satromo-dev/.venv/lib/python3.10/site-packages (from matplotlib) (11.0.0)\n",
      "Requirement already satisfied: pyparsing>=2.3.1 in /media/menas/data/projects/satromo-dev/.venv/lib/python3.10/site-packages (from matplotlib) (3.0.9)\n",
      "Requirement already satisfied: python-dateutil>=2.7 in /media/menas/data/projects/satromo-dev/.venv/lib/python3.10/site-packages (from matplotlib) (2.8.2)\n",
      "Requirement already satisfied: six>=1.5 in /media/menas/data/projects/satromo-dev/.venv/lib/python3.10/site-packages (from python-dateutil>=2.7->matplotlib) (1.16.0)\n"
     ]
    }
   ],
   "source": [
    "!pip install rasterio shapely matplotlib tqdm"
   ]
  },
  {
   "cell_type": "markdown",
   "metadata": {},
   "source": [
    "In order to access the funcionalities of the client API, you should import the `stac` package, as follows:"
   ]
  },
  {
   "cell_type": "code",
   "execution_count": 3,
   "metadata": {
    "id": "Nbh1DWTaPQDY"
   },
   "outputs": [],
   "source": [
    "import pystac_client"
   ]
  },
  {
   "cell_type": "markdown",
   "metadata": {},
   "source": [
    "After that, you can check the installed `stac` package version:"
   ]
  },
  {
   "cell_type": "code",
   "execution_count": 4,
   "metadata": {},
   "outputs": [
    {
     "data": {
      "text/plain": [
       "'0.8.5'"
      ]
     },
     "execution_count": 4,
     "metadata": {},
     "output_type": "execute_result"
    }
   ],
   "source": [
    "pystac_client.__version__"
   ]
  },
  {
   "cell_type": "markdown",
   "metadata": {},
   "source": [
    "Then, create a `STAC` object attached to the data.geo.admin.ch STAC service:"
   ]
  },
  {
   "cell_type": "code",
   "execution_count": 5,
   "metadata": {},
   "outputs": [],
   "source": [
    "service = pystac_client.Client.open('https://data.geo.admin.ch/api/stac/v0.9/')"
   ]
  },
  {
   "cell_type": "markdown",
   "metadata": {},
   "source": [
    "The \"Swisstopo finish\"  we need to add the conformance classes: "
   ]
  },
  {
   "cell_type": "code",
   "execution_count": 6,
   "metadata": {},
   "outputs": [],
   "source": [
    "service.add_conforms_to(\"COLLECTIONS\")\n",
    "service.add_conforms_to(\"ITEM_SEARCH\")"
   ]
  },
  {
   "cell_type": "markdown",
   "metadata": {},
   "source": [
    "# Listing the Available <em>SwissEO</em> Data Products\n",
    "<hr style=\"border:1px solid #0077b9;\">"
   ]
  },
  {
   "cell_type": "markdown",
   "metadata": {},
   "source": [
    "In the Jupyter environment, the `STAC` object will list the available <em> SwissEO</em> collections from the service:"
   ]
  },
  {
   "cell_type": "code",
   "execution_count": 7,
   "metadata": {
    "colab": {
     "base_uri": "https://localhost:8080/",
     "height": 406
    },
    "id": "3IKREEUpPQDg",
    "outputId": "9877684a-c575-47b8-d964-3e89c4f61944"
   },
   "outputs": [
    {
     "name": "stdout",
     "output_type": "stream",
     "text": [
      "<CollectionClient id=ch.swisstopo.swisseo_s2-sr_v100>\n",
      "<CollectionClient id=ch.swisstopo.swisseo_vhi_v100>\n"
     ]
    }
   ],
   "source": [
    "for collection in service.get_collections():\n",
    "    if \"swisseo\" in collection.id.lower():\n",
    "        print(collection)"
   ]
  },
  {
   "cell_type": "markdown",
   "metadata": {},
   "source": [
    "<img src=\"../../../img/stac/stac-catalog.png?raw=true\" align=\"right\" width=\"300\"/>\n",
    "\n",
    "# Retrieving the Metadata of a Collection\n",
    "<hr style=\"border:1px solid #0077b9;\">\n",
    "\n",
    "The `collection` method returns information about a given collection identified by its name. In this example we are retrieving information about the datacube collection `ch.swisstopo.swisseo_s2-sr_v100`:"
   ]
  },
  {
   "cell_type": "code",
   "execution_count": 22,
   "metadata": {
    "id": "dA0RhGdSPQDn"
   },
   "outputs": [
    {
     "data": {
      "text/html": [
       "\n",
       "\n",
       "<style>\n",
       ".pystac-summary {\n",
       "    cursor: pointer;\n",
       "    display: list-item;\n",
       "    list-style: revert;\n",
       "    margin-bottom: 0 !important;\n",
       "\n",
       "    .pystac-l {\n",
       "        padding-left: 0.5em;\n",
       "        color: rgb(64, 128, 128);\n",
       "        font-style: italic;\n",
       "    }\n",
       "}\n",
       ".pystac-row {\n",
       "    overflow-wrap: break-word;\n",
       "    padding-left: .825em;\n",
       "\n",
       "    .pystac-k {\n",
       "        display: inline-block;\n",
       "        margin: 0px 0.5em 0px 0px;\n",
       "    }\n",
       "    .pystac-v {\n",
       "        color: rgb(186, 33, 33);\n",
       "    }\n",
       "}\n",
       ".pystac-k {\n",
       "    color: rgb(0, 128, 0);\n",
       "    font-weight: 700;\n",
       "}\n",
       "</style>\n",
       "<div class=\"jp-RenderedJSON jp-mod-trusted jp-OutputArea-output\">\n",
       "    <div class=\"container\" style=\"line-height: normal;\">\n",
       "        <ul style=\"padding: 0px; margin: 0px; list-style: none; display: block;\">\n",
       "            \n",
       "                \n",
       "                    \n",
       "        <li class=\"pystac-row\">\n",
       "            <span class=\"pystac-k\">type</span>\n",
       "            <span class=\"pystac-v\">\"Collection\"</span>\n",
       "        </li>\n",
       "    \n",
       "                \n",
       "            \n",
       "                \n",
       "                    \n",
       "        <li class=\"pystac-row\">\n",
       "            <span class=\"pystac-k\">id</span>\n",
       "            <span class=\"pystac-v\">\"ch.swisstopo.swisseo_s2-sr_v100\"</span>\n",
       "        </li>\n",
       "    \n",
       "                \n",
       "            \n",
       "                \n",
       "                    \n",
       "        <li class=\"pystac-row\">\n",
       "            <span class=\"pystac-k\">stac_version</span>\n",
       "            <span class=\"pystac-v\">\"1.0.0\"</span>\n",
       "        </li>\n",
       "    \n",
       "                \n",
       "            \n",
       "                \n",
       "                    \n",
       "        <li class=\"pystac-row\">\n",
       "            <span class=\"pystac-k\">description</span>\n",
       "            <span class=\"pystac-v\">\"Optical satellite data (Sentinel-2) which, among other things, show the reflectances of the land surface for the four channels Red, Green, Blue and near Infrared in a spatial resolution of 10 metres. Switzerland is fully imaged approximately every three days, but the usefulness of the data is heavily dependent on meteorological conditions, as the imaging sensor cannot see through clouds. In addition to the already applied localisation of the data, a co-registration of the data optimised for Switzerland is applied for a sub-pixel positional accuracy and the data is delivered in a uniform projection. Also included are optimised quality layers with masks for clouds (and cloud shadows) and topographic shadows.\r\n",
       "The data processing is still in the commission phase (set-up and validation) until the first quarter of 2025, so the data may be subject to change during this period.\r\n",
       "Contains modified Copernicus Sentinel data.\"</span>\n",
       "        </li>\n",
       "    \n",
       "                \n",
       "            \n",
       "                \n",
       "                    <li><details>\n",
       "        <summary class=\"pystac-summary\"><span class=\"pystac-k\">links</span><span class=\"pystac-l\">[] 7 items</span></summary>\n",
       "        \n",
       "            <ul style=\"margin: 0px; padding: 0px 0px 0px 1.75em; list-style: none; display: block;\">\n",
       "        \n",
       "            \n",
       "                \n",
       "        <li><details>\n",
       "            <summary class=\"pystac-summary\"><span class=\"pystac-k\">0</span></summary>\n",
       "            <ul style=\"margin: 0px; padding: 0px 0px 0px 1.75em; list-style: none; display: block;\">\n",
       "        \n",
       "            \n",
       "                \n",
       "        <li class=\"pystac-row\">\n",
       "            <span class=\"pystac-k\">rel</span>\n",
       "            <span class=\"pystac-v\">\"self\"</span>\n",
       "        </li>\n",
       "    \n",
       "            \n",
       "        \n",
       "            \n",
       "                \n",
       "        <li class=\"pystac-row\">\n",
       "            <span class=\"pystac-k\">href</span>\n",
       "            <span class=\"pystac-v\">\"https://data.geo.admin.ch/api/stac/v0.9/collections/ch.swisstopo.swisseo_s2-sr_v100\"</span>\n",
       "        </li>\n",
       "    \n",
       "            \n",
       "        \n",
       "    </ul>\n",
       "        </details></li>\n",
       "    \n",
       "            \n",
       "        \n",
       "    </ul>\n",
       "        \n",
       "            <ul style=\"margin: 0px; padding: 0px 0px 0px 1.75em; list-style: none; display: block;\">\n",
       "        \n",
       "            \n",
       "                \n",
       "        <li><details>\n",
       "            <summary class=\"pystac-summary\"><span class=\"pystac-k\">1</span></summary>\n",
       "            <ul style=\"margin: 0px; padding: 0px 0px 0px 1.75em; list-style: none; display: block;\">\n",
       "        \n",
       "            \n",
       "                \n",
       "        <li class=\"pystac-row\">\n",
       "            <span class=\"pystac-k\">rel</span>\n",
       "            <span class=\"pystac-v\">\"root\"</span>\n",
       "        </li>\n",
       "    \n",
       "            \n",
       "        \n",
       "            \n",
       "                \n",
       "        <li class=\"pystac-row\">\n",
       "            <span class=\"pystac-k\">href</span>\n",
       "            <span class=\"pystac-v\">\"https://data.geo.admin.ch/api/stac/v0.9/\"</span>\n",
       "        </li>\n",
       "    \n",
       "            \n",
       "        \n",
       "            \n",
       "                \n",
       "        <li class=\"pystac-row\">\n",
       "            <span class=\"pystac-k\">type</span>\n",
       "            <span class=\"pystac-v\">\"application/json\"</span>\n",
       "        </li>\n",
       "    \n",
       "            \n",
       "        \n",
       "            \n",
       "                \n",
       "        <li class=\"pystac-row\">\n",
       "            <span class=\"pystac-k\">title</span>\n",
       "            <span class=\"pystac-v\">\"data.geo.admin.ch\"</span>\n",
       "        </li>\n",
       "    \n",
       "            \n",
       "        \n",
       "    </ul>\n",
       "        </details></li>\n",
       "    \n",
       "            \n",
       "        \n",
       "    </ul>\n",
       "        \n",
       "            <ul style=\"margin: 0px; padding: 0px 0px 0px 1.75em; list-style: none; display: block;\">\n",
       "        \n",
       "            \n",
       "                \n",
       "        <li><details>\n",
       "            <summary class=\"pystac-summary\"><span class=\"pystac-k\">2</span></summary>\n",
       "            <ul style=\"margin: 0px; padding: 0px 0px 0px 1.75em; list-style: none; display: block;\">\n",
       "        \n",
       "            \n",
       "                \n",
       "        <li class=\"pystac-row\">\n",
       "            <span class=\"pystac-k\">rel</span>\n",
       "            <span class=\"pystac-v\">\"parent\"</span>\n",
       "        </li>\n",
       "    \n",
       "            \n",
       "        \n",
       "            \n",
       "                \n",
       "        <li class=\"pystac-row\">\n",
       "            <span class=\"pystac-k\">href</span>\n",
       "            <span class=\"pystac-v\">\"https://data.geo.admin.ch/api/stac/v0.9/\"</span>\n",
       "        </li>\n",
       "    \n",
       "            \n",
       "        \n",
       "    </ul>\n",
       "        </details></li>\n",
       "    \n",
       "            \n",
       "        \n",
       "    </ul>\n",
       "        \n",
       "            <ul style=\"margin: 0px; padding: 0px 0px 0px 1.75em; list-style: none; display: block;\">\n",
       "        \n",
       "            \n",
       "                \n",
       "        <li><details>\n",
       "            <summary class=\"pystac-summary\"><span class=\"pystac-k\">3</span></summary>\n",
       "            <ul style=\"margin: 0px; padding: 0px 0px 0px 1.75em; list-style: none; display: block;\">\n",
       "        \n",
       "            \n",
       "                \n",
       "        <li class=\"pystac-row\">\n",
       "            <span class=\"pystac-k\">rel</span>\n",
       "            <span class=\"pystac-v\">\"items\"</span>\n",
       "        </li>\n",
       "    \n",
       "            \n",
       "        \n",
       "            \n",
       "                \n",
       "        <li class=\"pystac-row\">\n",
       "            <span class=\"pystac-k\">href</span>\n",
       "            <span class=\"pystac-v\">\"https://data.geo.admin.ch/api/stac/v0.9/collections/ch.swisstopo.swisseo_s2-sr_v100/items\"</span>\n",
       "        </li>\n",
       "    \n",
       "            \n",
       "        \n",
       "    </ul>\n",
       "        </details></li>\n",
       "    \n",
       "            \n",
       "        \n",
       "    </ul>\n",
       "        \n",
       "            <ul style=\"margin: 0px; padding: 0px 0px 0px 1.75em; list-style: none; display: block;\">\n",
       "        \n",
       "            \n",
       "                \n",
       "        <li><details>\n",
       "            <summary class=\"pystac-summary\"><span class=\"pystac-k\">4</span></summary>\n",
       "            <ul style=\"margin: 0px; padding: 0px 0px 0px 1.75em; list-style: none; display: block;\">\n",
       "        \n",
       "            \n",
       "                \n",
       "        <li class=\"pystac-row\">\n",
       "            <span class=\"pystac-k\">rel</span>\n",
       "            <span class=\"pystac-v\">\"alternate\"</span>\n",
       "        </li>\n",
       "    \n",
       "            \n",
       "        \n",
       "            \n",
       "                \n",
       "        <li class=\"pystac-row\">\n",
       "            <span class=\"pystac-k\">href</span>\n",
       "            <span class=\"pystac-v\">\"https://data.geo.admin.ch/browser/index.html#/collections/ch.swisstopo.swisseo_s2-sr_v100\"</span>\n",
       "        </li>\n",
       "    \n",
       "            \n",
       "        \n",
       "            \n",
       "                \n",
       "        <li class=\"pystac-row\">\n",
       "            <span class=\"pystac-k\">type</span>\n",
       "            <span class=\"pystac-v\">\"text/html\"</span>\n",
       "        </li>\n",
       "    \n",
       "            \n",
       "        \n",
       "            \n",
       "                \n",
       "        <li class=\"pystac-row\">\n",
       "            <span class=\"pystac-k\">title</span>\n",
       "            <span class=\"pystac-v\">\"STAC Browser\"</span>\n",
       "        </li>\n",
       "    \n",
       "            \n",
       "        \n",
       "    </ul>\n",
       "        </details></li>\n",
       "    \n",
       "            \n",
       "        \n",
       "    </ul>\n",
       "        \n",
       "            <ul style=\"margin: 0px; padding: 0px 0px 0px 1.75em; list-style: none; display: block;\">\n",
       "        \n",
       "            \n",
       "                \n",
       "        <li><details>\n",
       "            <summary class=\"pystac-summary\"><span class=\"pystac-k\">5</span></summary>\n",
       "            <ul style=\"margin: 0px; padding: 0px 0px 0px 1.75em; list-style: none; display: block;\">\n",
       "        \n",
       "            \n",
       "                \n",
       "        <li class=\"pystac-row\">\n",
       "            <span class=\"pystac-k\">rel</span>\n",
       "            <span class=\"pystac-v\">\"license\"</span>\n",
       "        </li>\n",
       "    \n",
       "            \n",
       "        \n",
       "            \n",
       "                \n",
       "        <li class=\"pystac-row\">\n",
       "            <span class=\"pystac-k\">href</span>\n",
       "            <span class=\"pystac-v\">\"https://www.swisstopo.admin.ch/ogd-conditions\"</span>\n",
       "        </li>\n",
       "    \n",
       "            \n",
       "        \n",
       "            \n",
       "                \n",
       "        <li class=\"pystac-row\">\n",
       "            <span class=\"pystac-k\">title</span>\n",
       "            <span class=\"pystac-v\">\"Terms of use\"</span>\n",
       "        </li>\n",
       "    \n",
       "            \n",
       "        \n",
       "    </ul>\n",
       "        </details></li>\n",
       "    \n",
       "            \n",
       "        \n",
       "    </ul>\n",
       "        \n",
       "            <ul style=\"margin: 0px; padding: 0px 0px 0px 1.75em; list-style: none; display: block;\">\n",
       "        \n",
       "            \n",
       "                \n",
       "        <li><details>\n",
       "            <summary class=\"pystac-summary\"><span class=\"pystac-k\">6</span></summary>\n",
       "            <ul style=\"margin: 0px; padding: 0px 0px 0px 1.75em; list-style: none; display: block;\">\n",
       "        \n",
       "            \n",
       "                \n",
       "        <li class=\"pystac-row\">\n",
       "            <span class=\"pystac-k\">rel</span>\n",
       "            <span class=\"pystac-v\">\"describedby\"</span>\n",
       "        </li>\n",
       "    \n",
       "            \n",
       "        \n",
       "            \n",
       "                \n",
       "        <li class=\"pystac-row\">\n",
       "            <span class=\"pystac-k\">href</span>\n",
       "            <span class=\"pystac-v\">\"https://www.geocat.ch/geonetwork/srv/fre/catalog.search#/metadata/7ae5cd5b-e872-4719-92c0-dc2f86c4d471\"</span>\n",
       "        </li>\n",
       "    \n",
       "            \n",
       "        \n",
       "            \n",
       "                \n",
       "        <li class=\"pystac-row\">\n",
       "            <span class=\"pystac-k\">title</span>\n",
       "            <span class=\"pystac-v\">\"Metadata\"</span>\n",
       "        </li>\n",
       "    \n",
       "            \n",
       "        \n",
       "    </ul>\n",
       "        </details></li>\n",
       "    \n",
       "            \n",
       "        \n",
       "    </ul>\n",
       "        \n",
       "    </details></li>\n",
       "                \n",
       "            \n",
       "                \n",
       "                    \n",
       "        <li class=\"pystac-row\">\n",
       "            <span class=\"pystac-k\">created</span>\n",
       "            <span class=\"pystac-v\">\"2024-02-28T14:57:41.425082Z\"</span>\n",
       "        </li>\n",
       "    \n",
       "                \n",
       "            \n",
       "                \n",
       "                    \n",
       "        <li class=\"pystac-row\">\n",
       "            <span class=\"pystac-k\">updated</span>\n",
       "            <span class=\"pystac-v\">\"2024-12-17T10:24:05.019371Z\"</span>\n",
       "        </li>\n",
       "    \n",
       "                \n",
       "            \n",
       "                \n",
       "                    <li><details>\n",
       "        <summary class=\"pystac-summary\"><span class=\"pystac-k\">crs</span><span class=\"pystac-l\">[] 1 items</span></summary>\n",
       "        \n",
       "            <ul style=\"margin: 0px; padding: 0px 0px 0px 1.75em; list-style: none; display: block;\">\n",
       "        \n",
       "            \n",
       "                \n",
       "        <li class=\"pystac-row\">\n",
       "            <span class=\"pystac-k\">0</span>\n",
       "            <span class=\"pystac-v\">\"http://www.opengis.net/def/crs/OGC/1.3/CRS84\"</span>\n",
       "        </li>\n",
       "    \n",
       "            \n",
       "        \n",
       "    </ul>\n",
       "        \n",
       "    </details></li>\n",
       "                \n",
       "            \n",
       "                \n",
       "                    \n",
       "        <li class=\"pystac-row\">\n",
       "            <span class=\"pystac-k\">itemType</span>\n",
       "            <span class=\"pystac-v\">\"Feature\"</span>\n",
       "        </li>\n",
       "    \n",
       "                \n",
       "            \n",
       "                \n",
       "                    \n",
       "        <li class=\"pystac-row\">\n",
       "            <span class=\"pystac-k\">title</span>\n",
       "            <span class=\"pystac-v\">\"swissEO S2-SR: Optical satellite data (Sentinel-2)\"</span>\n",
       "        </li>\n",
       "    \n",
       "                \n",
       "            \n",
       "                \n",
       "                    \n",
       "        <li><details>\n",
       "            <summary class=\"pystac-summary\"><span class=\"pystac-k\">extent</span></summary>\n",
       "            <ul style=\"margin: 0px; padding: 0px 0px 0px 1.75em; list-style: none; display: block;\">\n",
       "        \n",
       "            \n",
       "                \n",
       "        <li><details>\n",
       "            <summary class=\"pystac-summary\"><span class=\"pystac-k\">spatial</span></summary>\n",
       "            <ul style=\"margin: 0px; padding: 0px 0px 0px 1.75em; list-style: none; display: block;\">\n",
       "        \n",
       "            \n",
       "                <li><details>\n",
       "        <summary class=\"pystac-summary\"><span class=\"pystac-k\">bbox</span><span class=\"pystac-l\">[] 1 items</span></summary>\n",
       "        \n",
       "            <ul style=\"margin: 0px; padding: 0px 0px 0px 1.75em; list-style: none; display: block;\">\n",
       "        \n",
       "            \n",
       "                <li><details>\n",
       "        <summary class=\"pystac-summary\"><span class=\"pystac-k\">0</span><span class=\"pystac-l\">[] 4 items</span></summary>\n",
       "        \n",
       "            <ul style=\"margin: 0px; padding: 0px 0px 0px 1.75em; list-style: none; display: block;\">\n",
       "        \n",
       "            \n",
       "                \n",
       "        <li class=\"pystac-row\">\n",
       "            <span class=\"pystac-k\">0</span>\n",
       "            <span class=\"pystac-v\">5.753694119415687</span>\n",
       "        </li>\n",
       "    \n",
       "            \n",
       "        \n",
       "    </ul>\n",
       "        \n",
       "            <ul style=\"margin: 0px; padding: 0px 0px 0px 1.75em; list-style: none; display: block;\">\n",
       "        \n",
       "            \n",
       "                \n",
       "        <li class=\"pystac-row\">\n",
       "            <span class=\"pystac-k\">1</span>\n",
       "            <span class=\"pystac-v\">45.68611190302294</span>\n",
       "        </li>\n",
       "    \n",
       "            \n",
       "        \n",
       "    </ul>\n",
       "        \n",
       "            <ul style=\"margin: 0px; padding: 0px 0px 0px 1.75em; list-style: none; display: block;\">\n",
       "        \n",
       "            \n",
       "                \n",
       "        <li class=\"pystac-row\">\n",
       "            <span class=\"pystac-k\">2</span>\n",
       "            <span class=\"pystac-v\">10.801022199797808</span>\n",
       "        </li>\n",
       "    \n",
       "            \n",
       "        \n",
       "    </ul>\n",
       "        \n",
       "            <ul style=\"margin: 0px; padding: 0px 0px 0px 1.75em; list-style: none; display: block;\">\n",
       "        \n",
       "            \n",
       "                \n",
       "        <li class=\"pystac-row\">\n",
       "            <span class=\"pystac-k\">3</span>\n",
       "            <span class=\"pystac-v\">47.939946753823534</span>\n",
       "        </li>\n",
       "    \n",
       "            \n",
       "        \n",
       "    </ul>\n",
       "        \n",
       "    </details></li>\n",
       "            \n",
       "        \n",
       "    </ul>\n",
       "        \n",
       "    </details></li>\n",
       "            \n",
       "        \n",
       "    </ul>\n",
       "        </details></li>\n",
       "    \n",
       "            \n",
       "        \n",
       "            \n",
       "                \n",
       "        <li><details>\n",
       "            <summary class=\"pystac-summary\"><span class=\"pystac-k\">temporal</span></summary>\n",
       "            <ul style=\"margin: 0px; padding: 0px 0px 0px 1.75em; list-style: none; display: block;\">\n",
       "        \n",
       "            \n",
       "                <li><details>\n",
       "        <summary class=\"pystac-summary\"><span class=\"pystac-k\">interval</span><span class=\"pystac-l\">[] 1 items</span></summary>\n",
       "        \n",
       "            <ul style=\"margin: 0px; padding: 0px 0px 0px 1.75em; list-style: none; display: block;\">\n",
       "        \n",
       "            \n",
       "                <li><details>\n",
       "        <summary class=\"pystac-summary\"><span class=\"pystac-k\">0</span><span class=\"pystac-l\">[] 2 items</span></summary>\n",
       "        \n",
       "            <ul style=\"margin: 0px; padding: 0px 0px 0px 1.75em; list-style: none; display: block;\">\n",
       "        \n",
       "            \n",
       "                \n",
       "        <li class=\"pystac-row\">\n",
       "            <span class=\"pystac-k\">0</span>\n",
       "            <span class=\"pystac-v\">\"2017-04-03T10:40:21Z\"</span>\n",
       "        </li>\n",
       "    \n",
       "            \n",
       "        \n",
       "    </ul>\n",
       "        \n",
       "            <ul style=\"margin: 0px; padding: 0px 0px 0px 1.75em; list-style: none; display: block;\">\n",
       "        \n",
       "            \n",
       "                \n",
       "        <li class=\"pystac-row\">\n",
       "            <span class=\"pystac-k\">1</span>\n",
       "            <span class=\"pystac-v\">\"2024-12-13T10:14:31Z\"</span>\n",
       "        </li>\n",
       "    \n",
       "            \n",
       "        \n",
       "    </ul>\n",
       "        \n",
       "    </details></li>\n",
       "            \n",
       "        \n",
       "    </ul>\n",
       "        \n",
       "    </details></li>\n",
       "            \n",
       "        \n",
       "    </ul>\n",
       "        </details></li>\n",
       "    \n",
       "            \n",
       "        \n",
       "    </ul>\n",
       "        </details></li>\n",
       "    \n",
       "                \n",
       "            \n",
       "                \n",
       "                    \n",
       "        <li class=\"pystac-row\">\n",
       "            <span class=\"pystac-k\">license</span>\n",
       "            <span class=\"pystac-v\">\"proprietary\"</span>\n",
       "        </li>\n",
       "    \n",
       "                \n",
       "            \n",
       "                \n",
       "                    <li><details>\n",
       "        <summary class=\"pystac-summary\"><span class=\"pystac-k\">providers</span><span class=\"pystac-l\">[] 1 items</span></summary>\n",
       "        \n",
       "            <ul style=\"margin: 0px; padding: 0px 0px 0px 1.75em; list-style: none; display: block;\">\n",
       "        \n",
       "            \n",
       "                \n",
       "        <li><details>\n",
       "            <summary class=\"pystac-summary\"><span class=\"pystac-k\">0</span></summary>\n",
       "            <ul style=\"margin: 0px; padding: 0px 0px 0px 1.75em; list-style: none; display: block;\">\n",
       "        \n",
       "            \n",
       "                \n",
       "        <li class=\"pystac-row\">\n",
       "            <span class=\"pystac-k\">name</span>\n",
       "            <span class=\"pystac-v\">\"Federal Office of Topography - swisstopo\"</span>\n",
       "        </li>\n",
       "    \n",
       "            \n",
       "        \n",
       "            \n",
       "                <li><details>\n",
       "        <summary class=\"pystac-summary\"><span class=\"pystac-k\">roles</span><span class=\"pystac-l\">[] 2 items</span></summary>\n",
       "        \n",
       "            <ul style=\"margin: 0px; padding: 0px 0px 0px 1.75em; list-style: none; display: block;\">\n",
       "        \n",
       "            \n",
       "                \n",
       "        <li class=\"pystac-row\">\n",
       "            <span class=\"pystac-k\">0</span>\n",
       "            <span class=\"pystac-v\">\"producer\"</span>\n",
       "        </li>\n",
       "    \n",
       "            \n",
       "        \n",
       "    </ul>\n",
       "        \n",
       "            <ul style=\"margin: 0px; padding: 0px 0px 0px 1.75em; list-style: none; display: block;\">\n",
       "        \n",
       "            \n",
       "                \n",
       "        <li class=\"pystac-row\">\n",
       "            <span class=\"pystac-k\">1</span>\n",
       "            <span class=\"pystac-v\">\"licensor\"</span>\n",
       "        </li>\n",
       "    \n",
       "            \n",
       "        \n",
       "    </ul>\n",
       "        \n",
       "    </details></li>\n",
       "            \n",
       "        \n",
       "            \n",
       "                \n",
       "        <li class=\"pystac-row\">\n",
       "            <span class=\"pystac-k\">url</span>\n",
       "            <span class=\"pystac-v\">\"https://www.swisstopo.admin.ch/en\"</span>\n",
       "        </li>\n",
       "    \n",
       "            \n",
       "        \n",
       "    </ul>\n",
       "        </details></li>\n",
       "    \n",
       "            \n",
       "        \n",
       "    </ul>\n",
       "        \n",
       "    </details></li>\n",
       "                \n",
       "            \n",
       "                \n",
       "                    \n",
       "        <li><details>\n",
       "            <summary class=\"pystac-summary\"><span class=\"pystac-k\">summaries</span></summary>\n",
       "            <ul style=\"margin: 0px; padding: 0px 0px 0px 1.75em; list-style: none; display: block;\">\n",
       "        \n",
       "            \n",
       "                <li><details>\n",
       "        <summary class=\"pystac-summary\"><span class=\"pystac-k\">proj:epsg</span><span class=\"pystac-l\">[] 1 items</span></summary>\n",
       "        \n",
       "            <ul style=\"margin: 0px; padding: 0px 0px 0px 1.75em; list-style: none; display: block;\">\n",
       "        \n",
       "            \n",
       "                \n",
       "        <li class=\"pystac-row\">\n",
       "            <span class=\"pystac-k\">0</span>\n",
       "            <span class=\"pystac-v\">2056</span>\n",
       "        </li>\n",
       "    \n",
       "            \n",
       "        \n",
       "    </ul>\n",
       "        \n",
       "    </details></li>\n",
       "            \n",
       "        \n",
       "            \n",
       "                <li><details>\n",
       "        <summary class=\"pystac-summary\"><span class=\"pystac-k\">eo:gsd</span><span class=\"pystac-l\">[] 2 items</span></summary>\n",
       "        \n",
       "            <ul style=\"margin: 0px; padding: 0px 0px 0px 1.75em; list-style: none; display: block;\">\n",
       "        \n",
       "            \n",
       "                \n",
       "        <li class=\"pystac-row\">\n",
       "            <span class=\"pystac-k\">0</span>\n",
       "            <span class=\"pystac-v\">10.0</span>\n",
       "        </li>\n",
       "    \n",
       "            \n",
       "        \n",
       "    </ul>\n",
       "        \n",
       "            <ul style=\"margin: 0px; padding: 0px 0px 0px 1.75em; list-style: none; display: block;\">\n",
       "        \n",
       "            \n",
       "                \n",
       "        <li class=\"pystac-row\">\n",
       "            <span class=\"pystac-k\">1</span>\n",
       "            <span class=\"pystac-v\">20.0</span>\n",
       "        </li>\n",
       "    \n",
       "            \n",
       "        \n",
       "    </ul>\n",
       "        \n",
       "    </details></li>\n",
       "            \n",
       "        \n",
       "    </ul>\n",
       "        </details></li>\n",
       "    \n",
       "                \n",
       "            \n",
       "        </ul>\n",
       "    </div>\n",
       "</div>"
      ],
      "text/plain": [
       "<CollectionClient id=ch.swisstopo.swisseo_s2-sr_v100>"
      ]
     },
     "execution_count": 22,
     "metadata": {},
     "output_type": "execute_result"
    }
   ],
   "source": [
    "collection = service.get_collection('ch.swisstopo.swisseo_s2-sr_v100')\n",
    "collection"
   ]
  },
  {
   "cell_type": "markdown",
   "metadata": {},
   "source": [
    "<img src=\"../../../img/stac/stac-item.png?raw=true\" align=\"right\" width=\"300\"/>\n",
    "\n",
    "# Retrieving Items\n",
    "<hr style=\"border:1px solid #0077b9;\">\n",
    "\n",
    "The `get_items` method returns the items of a given collection:"
   ]
  },
  {
   "cell_type": "code",
   "execution_count": 9,
   "metadata": {},
   "outputs": [
    {
     "name": "stdout",
     "output_type": "stream",
     "text": [
      "Number of items in the collection: 899\n"
     ]
    }
   ],
   "source": [
    "#collection.get_items()\n",
    "item_count = sum(1 for _ in collection.get_items())\n",
    "print(f\"Number of items in the collection: {item_count}\")"
   ]
  },
  {
   "cell_type": "markdown",
   "metadata": {},
   "source": [
    "In order to support filtering rules through the specification of a rectangle (`bbox`) or a date and time (`datatime`) criterias, use the `Client.search(**kwargs)`:"
   ]
  },
  {
   "cell_type": "code",
   "execution_count": 10,
   "metadata": {
    "colab": {
     "base_uri": "https://localhost:8080/",
     "height": 614
    },
    "id": "6hCWnHXePQDt",
    "outputId": "b32aff37-22a3-43c6-8723-3f47c416cffb"
   },
   "outputs": [],
   "source": [
    "\n",
    "item_search = service.search(\n",
    "    bbox=(7.364515, 46.868545, 7.535312, 46.999127),\n",
    "    datetime='2024-08-01/2024-08-31',\n",
    "    collections=['ch.swisstopo.swisseo_s2-sr_v100']\n",
    ")\n"
   ]
  },
  {
   "cell_type": "markdown",
   "metadata": {},
   "source": [
    "The method `.search(**kwargs)` returns a `ItemSearch` representation which has handy methods to identify the matched results. For example, to check the number of items matched, use `.items()`:"
   ]
  },
  {
   "cell_type": "code",
   "execution_count": 11,
   "metadata": {},
   "outputs": [
    {
     "name": "stdout",
     "output_type": "stream",
     "text": [
      "Found 16 items\n"
     ]
    }
   ],
   "source": [
    "items = list(item_search.items())\n",
    "print(f\"Found {len(items)} items\")"
   ]
  },
  {
   "cell_type": "markdown",
   "metadata": {},
   "source": [
    "To iterate over the matched result, use `.items()` to traverse the list of items:"
   ]
  },
  {
   "cell_type": "code",
   "execution_count": 12,
   "metadata": {},
   "outputs": [
    {
     "name": "stdout",
     "output_type": "stream",
     "text": [
      "<Item id=2024-08-01t103031>\n",
      "<Item id=2024-08-03t101559>\n",
      "<Item id=2024-08-04t104021>\n",
      "<Item id=2024-08-06t102559>\n",
      "<Item id=2024-08-09t103629>\n",
      "<Item id=2024-08-13t101559>\n",
      "<Item id=2024-08-14t104021>\n",
      "<Item id=2024-08-16t102559>\n",
      "<Item id=2024-08-19t103629>\n",
      "<Item id=2024-08-21t103021>\n",
      "<Item id=2024-08-23t101559>\n",
      "<Item id=2024-08-24t104021>\n",
      "<Item id=2024-08-28t102021>\n",
      "<Item id=2024-08-29t103629>\n",
      "<Item id=2024-08-31t103021>\n",
      "<Item id=2024-08-11t103031>\n"
     ]
    }
   ],
   "source": [
    "for item in item_search.items():\n",
    "    print(item)"
   ]
  },
  {
   "cell_type": "markdown",
   "metadata": {},
   "source": [
    "<img src=\"https://raw.githubusercontent.com/brazil-data-cube/code-gallery/master/img/stac/stac-asset.png?raw=true\" align=\"right\" width=\"300\"/>\n",
    "\n",
    "# Assets\n",
    "<hr style=\"border:1px solid #0077b9;\">\n",
    "\n",
    "The assets with the links to the images, thumbnails or specific metadata files, can be accessed through the property `assets` (from a given item):"
   ]
  },
  {
   "cell_type": "code",
   "execution_count": 13,
   "metadata": {
    "colab": {
     "base_uri": "https://localhost:8080/",
     "height": 36
    },
    "id": "TyimexxXPQD1",
    "outputId": "2eb3dfee-bc47-4de8-a4a4-e3485cb37e18"
   },
   "outputs": [],
   "source": [
    "assets = item.assets"
   ]
  },
  {
   "cell_type": "markdown",
   "metadata": {},
   "source": [
    "Then, from the assets it is possible to traverse or access individual elements:"
   ]
  },
  {
   "cell_type": "code",
   "execution_count": 14,
   "metadata": {},
   "outputs": [
    {
     "name": "stdout",
     "output_type": "stream",
     "text": [
      "ch.swisstopo.swisseo_s2-sr_v100_mosaic_2024-08-11t103031_bands-10m.tif\n",
      "thumbnail.jpg\n",
      "ch.swisstopo.swisseo_s2-sr_v100_mosaic_2024-08-11t103031_metadata.json\n",
      "ch.swisstopo.swisseo_s2-sr_v100_mosaic_2024-08-11t103031_bands-20m.tif\n",
      "ch.swisstopo.swisseo_s2-sr_v100_mosaic_2024-08-11t103031_cloudprobability-10m.tif\n",
      "ch.swisstopo.swisseo_s2-sr_v100_mosaic_2024-08-11t103031_masks-10m.tif\n",
      "ch.swisstopo.swisseo_s2-sr_v100_mosaic_2024-08-11t103031_registration-10m.tif\n"
     ]
    }
   ],
   "source": [
    "for k in assets.keys():\n",
    "    print(k)"
   ]
  },
  {
   "cell_type": "markdown",
   "metadata": {},
   "source": [
    "The metadata related to the Sentinel-2 10 bands is available under the dictionary key which do end with`bands-10m.tif`:"
   ]
  },
  {
   "cell_type": "code",
   "execution_count": 18,
   "metadata": {},
   "outputs": [
    {
     "data": {
      "text/html": [
       "\n",
       "\n",
       "<style>\n",
       ".pystac-summary {\n",
       "    cursor: pointer;\n",
       "    display: list-item;\n",
       "    list-style: revert;\n",
       "    margin-bottom: 0 !important;\n",
       "\n",
       "    .pystac-l {\n",
       "        padding-left: 0.5em;\n",
       "        color: rgb(64, 128, 128);\n",
       "        font-style: italic;\n",
       "    }\n",
       "}\n",
       ".pystac-row {\n",
       "    overflow-wrap: break-word;\n",
       "    padding-left: .825em;\n",
       "\n",
       "    .pystac-k {\n",
       "        display: inline-block;\n",
       "        margin: 0px 0.5em 0px 0px;\n",
       "    }\n",
       "    .pystac-v {\n",
       "        color: rgb(186, 33, 33);\n",
       "    }\n",
       "}\n",
       ".pystac-k {\n",
       "    color: rgb(0, 128, 0);\n",
       "    font-weight: 700;\n",
       "}\n",
       "</style>\n",
       "<div class=\"jp-RenderedJSON jp-mod-trusted jp-OutputArea-output\">\n",
       "    <div class=\"container\" style=\"line-height: normal;\">\n",
       "        <ul style=\"padding: 0px; margin: 0px; list-style: none; display: block;\">\n",
       "            \n",
       "                \n",
       "                    \n",
       "        <li class=\"pystac-row\">\n",
       "            <span class=\"pystac-k\">href</span>\n",
       "            <span class=\"pystac-v\">\"https://data.geo.admin.ch/ch.swisstopo.swisseo_s2-sr_v100/2024-08-11t103031/ch.swisstopo.swisseo_s2-sr_v100_mosaic_2024-08-11t103031_bands-10m.tif\"</span>\n",
       "        </li>\n",
       "    \n",
       "                \n",
       "            \n",
       "                \n",
       "                    \n",
       "        <li class=\"pystac-row\">\n",
       "            <span class=\"pystac-k\">type</span>\n",
       "            <span class=\"pystac-v\">\"image/tiff; application=geotiff; profile=cloud-optimized\"</span>\n",
       "        </li>\n",
       "    \n",
       "                \n",
       "            \n",
       "                \n",
       "                    \n",
       "        <li class=\"pystac-row\">\n",
       "            <span class=\"pystac-k\">title</span>\n",
       "            <span class=\"pystac-v\">\"BANDS-10M\"</span>\n",
       "        </li>\n",
       "    \n",
       "                \n",
       "            \n",
       "                \n",
       "                    \n",
       "        <li class=\"pystac-row\">\n",
       "            <span class=\"pystac-k\">created</span>\n",
       "            <span class=\"pystac-v\">\"2024-10-29T01:55:07.260521Z\"</span>\n",
       "        </li>\n",
       "    \n",
       "                \n",
       "            \n",
       "                \n",
       "                    \n",
       "        <li class=\"pystac-row\">\n",
       "            <span class=\"pystac-k\">updated</span>\n",
       "            <span class=\"pystac-v\">\"2024-10-29T01:57:01.338520Z\"</span>\n",
       "        </li>\n",
       "    \n",
       "                \n",
       "            \n",
       "                \n",
       "                    \n",
       "        <li class=\"pystac-row\">\n",
       "            <span class=\"pystac-k\">proj:epsg</span>\n",
       "            <span class=\"pystac-v\">2056</span>\n",
       "        </li>\n",
       "    \n",
       "                \n",
       "            \n",
       "                \n",
       "                    \n",
       "        <li class=\"pystac-row\">\n",
       "            <span class=\"pystac-k\">checksum:multihash</span>\n",
       "            <span class=\"pystac-v\">\"1220746c8348fc0bcdc3a929e39f88c53a06b9acc3f0b2b89093cb229f7956b6a602\"</span>\n",
       "        </li>\n",
       "    \n",
       "                \n",
       "            \n",
       "                \n",
       "                    \n",
       "        <li class=\"pystac-row\">\n",
       "            <span class=\"pystac-k\">eo:gsd</span>\n",
       "            <span class=\"pystac-v\">10.0</span>\n",
       "        </li>\n",
       "    \n",
       "                \n",
       "            \n",
       "        </ul>\n",
       "    </div>\n",
       "</div>"
      ],
      "text/plain": [
       "<Asset href=https://data.geo.admin.ch/ch.swisstopo.swisseo_s2-sr_v100/2024-08-11t103031/ch.swisstopo.swisseo_s2-sr_v100_mosaic_2024-08-11t103031_bands-10m.tif>"
      ]
     },
     "execution_count": 18,
     "metadata": {},
     "output_type": "execute_result"
    }
   ],
   "source": [
    "asset_key = next((key for key in assets.keys() if key.endswith('bands-10m.tif')), None)\n",
    "band10m_asset = assets[asset_key ]\n",
    "band10m_asset\n"
   ]
  },
  {
   "cell_type": "markdown",
   "metadata": {},
   "source": [
    "To iterate in the item's assets, use the following pattern:"
   ]
  },
  {
   "cell_type": "code",
   "execution_count": 19,
   "metadata": {},
   "outputs": [
    {
     "name": "stdout",
     "output_type": "stream",
     "text": [
      "<Asset href=https://data.geo.admin.ch/ch.swisstopo.swisseo_s2-sr_v100/2024-08-11t103031/ch.swisstopo.swisseo_s2-sr_v100_mosaic_2024-08-11t103031_bands-10m.tif>\n",
      "<Asset href=https://data.geo.admin.ch/ch.swisstopo.swisseo_s2-sr_v100/2024-08-11t103031/thumbnail.jpg>\n",
      "<Asset href=https://data.geo.admin.ch/ch.swisstopo.swisseo_s2-sr_v100/2024-08-11t103031/ch.swisstopo.swisseo_s2-sr_v100_mosaic_2024-08-11t103031_metadata.json>\n",
      "<Asset href=https://data.geo.admin.ch/ch.swisstopo.swisseo_s2-sr_v100/2024-08-11t103031/ch.swisstopo.swisseo_s2-sr_v100_mosaic_2024-08-11t103031_bands-20m.tif>\n",
      "<Asset href=https://data.geo.admin.ch/ch.swisstopo.swisseo_s2-sr_v100/2024-08-11t103031/ch.swisstopo.swisseo_s2-sr_v100_mosaic_2024-08-11t103031_cloudprobability-10m.tif>\n",
      "<Asset href=https://data.geo.admin.ch/ch.swisstopo.swisseo_s2-sr_v100/2024-08-11t103031/ch.swisstopo.swisseo_s2-sr_v100_mosaic_2024-08-11t103031_masks-10m.tif>\n",
      "<Asset href=https://data.geo.admin.ch/ch.swisstopo.swisseo_s2-sr_v100/2024-08-11t103031/ch.swisstopo.swisseo_s2-sr_v100_mosaic_2024-08-11t103031_registration-10m.tif>\n"
     ]
    }
   ],
   "source": [
    "for asset in assets.values():\n",
    "    print(asset)"
   ]
  },
  {
   "cell_type": "markdown",
   "metadata": {},
   "source": [
    "# Using RasterIO and NumPy\n",
    "<hr style=\"border:1px solid #0077b9;\">"
   ]
  },
  {
   "cell_type": "markdown",
   "metadata": {},
   "source": [
    "The `rasterio` library can be used to read image files from the Brazil Data Cube' service on-the-fly and then to create `NumPy` arrays. The `read` method of an `Item` can be used to perform the reading and array creation:"
   ]
  },
  {
   "cell_type": "code",
   "execution_count": null,
   "metadata": {},
   "outputs": [],
   "source": [
    "import rasterio"
   ]
  },
  {
   "cell_type": "code",
   "execution_count": null,
   "metadata": {},
   "outputs": [],
   "source": [
    "with rasterio.open(assets['B08'].href) as nir_ds:\n",
    "    nir = nir_ds.read(1)"
   ]
  },
  {
   "cell_type": "markdown",
   "metadata": {},
   "source": [
    "<div style=\"text-align: justify;  margin-left: 15%; margin-right: 15%; border-style: solid; border-color: #0077b9; border-width: 1px; padding: 5px;\">\n",
    "    <b>Note:</b> If there are errors because of your pyproj version, you can run the code below as specified in <a  href=\"https://rasterio.readthedocs.io/en/latest/faq.html#why-can-t-rasterio-find-proj-db-rasterio-from-pypi-versions-1-2-0\" target=\"_blank\">rasterio documentation</a> and try again:\n",
    "\n",
    "       import os\n",
    "       del os.environ['PROJ_LIB']\n",
    "</div>"
   ]
  },
  {
   "cell_type": "code",
   "execution_count": null,
   "metadata": {},
   "outputs": [],
   "source": [
    "nir"
   ]
  },
  {
   "cell_type": "markdown",
   "metadata": {},
   "source": [
    "The next cell code import the `Window` class from the `rasterio` library in order to retrieve a subset of an image and then create an array:"
   ]
  },
  {
   "cell_type": "code",
   "execution_count": null,
   "metadata": {
    "id": "YWzxK1JIPQD_"
   },
   "outputs": [],
   "source": [
    "from rasterio.windows import Window"
   ]
  },
  {
   "cell_type": "markdown",
   "metadata": {},
   "source": [
    "We have prepared a basic function `read()`to read raster windows as [`numpy.ma.masked_array`](https://numpy.org/doc/stable/reference/maskedarray.generic.html)."
   ]
  },
  {
   "cell_type": "code",
   "execution_count": null,
   "metadata": {},
   "outputs": [],
   "source": [
    "def read(uri: str, window: Window, masked: bool = True):\n",
    "    \"\"\"Read raster window as numpy.ma.masked_array.\"\"\"\n",
    "    with rasterio.open(uri) as ds:\n",
    "        return ds.read(1, window=window, masked=masked)"
   ]
  },
  {
   "cell_type": "markdown",
   "metadata": {},
   "source": [
    "We can specify a subset of the image file (window or chunck) to be read. Let's read a range that starts on pixel (0, 0) with 500 x 500 and column 0 to column 500, for the spectral bands `red`, `green` and `blue`:"
   ]
  },
  {
   "cell_type": "code",
   "execution_count": null,
   "metadata": {
    "id": "SBW91SsdPQEF"
   },
   "outputs": [],
   "source": [
    "red = read(assets['B04'].href, window=Window(0, 0, 500, 500)) # Window(col_off, row_off, width, height)"
   ]
  },
  {
   "cell_type": "code",
   "execution_count": null,
   "metadata": {},
   "outputs": [],
   "source": [
    "green = read(assets['B03'].href, window=Window(0, 0, 500, 500))"
   ]
  },
  {
   "cell_type": "code",
   "execution_count": null,
   "metadata": {},
   "outputs": [],
   "source": [
    "blue = read(assets['B02'].href, window=Window(0, 0, 500, 500))"
   ]
  },
  {
   "cell_type": "code",
   "execution_count": null,
   "metadata": {},
   "outputs": [],
   "source": [
    "blue"
   ]
  },
  {
   "cell_type": "markdown",
   "metadata": {},
   "source": [
    "You can also load using Coordinates:"
   ]
  },
  {
   "cell_type": "code",
   "execution_count": null,
   "metadata": {},
   "outputs": [],
   "source": [
    "from rasterio.windows import from_bounds"
   ]
  },
  {
   "cell_type": "code",
   "execution_count": null,
   "metadata": {},
   "outputs": [],
   "source": [
    "with rasterio.open(assets['B02'].href) as src:\n",
    "    rst = src.read(1, window=from_bounds(4150000.0, 10300000, 4160000.0, 10310000, src.transform))\n",
    "print(rst.shape)"
   ]
  },
  {
   "cell_type": "markdown",
   "metadata": {},
   "source": [
    "If you wish you can use lat long coordinates and reproject them into the Albers Equal Area Projection, which is used in the BDC products:"
   ]
  },
  {
   "cell_type": "code",
   "execution_count": null,
   "metadata": {},
   "outputs": [],
   "source": [
    "from pyproj import Transformer\n",
    "from pyproj.crs import CRS\n",
    "\n",
    "inProj = CRS.from_epsg(4326)\n",
    "outProj = CRS.from_user_input(src.crs)\n",
    "transformer = Transformer.from_crs(inProj, outProj, always_xy=True)\n",
    "x1, y1 = -61.7960, -9.0374\n",
    "x2, y2 = -61.7033, -8.9390\n",
    "x1_reproj, y1_reproj = transformer.transform(x1, y1)\n",
    "x2_reproj, y2_reproj = transformer.transform(x2, y2)\n",
    "print(x1, y1, x2, y2)\n",
    "print(x1_reproj, y1_reproj, x2_reproj, y2_reproj)\n",
    "\n",
    "with rasterio.open(assets['B02'].href) as src:\n",
    "    rst = src.read(1, window=from_bounds(x1_reproj, y1_reproj, x2_reproj, y2_reproj, src.transform))\n",
    "print(rst.shape)"
   ]
  },
  {
   "cell_type": "markdown",
   "metadata": {},
   "source": [
    "# Using Matplotlib to Visualize Images\n",
    "<hr style=\"border:1px solid #0077b9;\">"
   ]
  },
  {
   "cell_type": "markdown",
   "metadata": {},
   "source": [
    "The `Matplotlib` cab be used to plot the arrays read in the last section:"
   ]
  },
  {
   "cell_type": "code",
   "execution_count": null,
   "metadata": {},
   "outputs": [],
   "source": [
    "%matplotlib inline\n",
    "from matplotlib import pyplot as plt"
   ]
  },
  {
   "cell_type": "code",
   "execution_count": null,
   "metadata": {
    "colab": {
     "base_uri": "https://localhost:8080/",
     "height": 249
    },
    "id": "XBOIh1ifPQEK",
    "outputId": "1fb666b0-c501-47f4-ebde-cb19032b8725"
   },
   "outputs": [],
   "source": [
    "fig, (ax1, ax2, ax3) = plt.subplots(1,3, figsize=(12, 4))\n",
    "ax1.imshow(red, cmap='gray')\n",
    "ax2.imshow(green, cmap='gray')\n",
    "ax3.imshow(blue, cmap='gray')"
   ]
  },
  {
   "cell_type": "markdown",
   "metadata": {},
   "source": [
    "Using `Numpy` we can stack the previous arrays and use `Matplotlib` to plot a color image, but first we need to normalize their values:"
   ]
  },
  {
   "cell_type": "code",
   "execution_count": null,
   "metadata": {},
   "outputs": [],
   "source": [
    "import numpy"
   ]
  },
  {
   "cell_type": "code",
   "execution_count": null,
   "metadata": {
    "id": "IW8PNPNIPQEO"
   },
   "outputs": [],
   "source": [
    "def normalize(array):\n",
    "    \"\"\"Normalizes numpy arrays into scale 0.0 - 1.0\"\"\"\n",
    "    array_min, array_max = array.min(), array.max()\n",
    "    return ((array - array_min)/(array_max - array_min))"
   ]
  },
  {
   "cell_type": "code",
   "execution_count": null,
   "metadata": {
    "colab": {
     "base_uri": "https://localhost:8080/",
     "height": 287
    },
    "id": "JAOSp8VnPQEV",
    "outputId": "1c7fa67f-050e-43c0-f0c2-b4f11c0bbe95"
   },
   "outputs": [],
   "source": [
    "rgb = numpy.dstack((normalize(red), normalize(green), normalize(blue)))\n",
    "plt.imshow(rgb)"
   ]
  },
  {
   "cell_type": "markdown",
   "metadata": {},
   "source": [
    "# Retrieving Image Files\n",
    "<hr style=\"border:1px solid #0077b9;\">"
   ]
  },
  {
   "cell_type": "markdown",
   "metadata": {},
   "source": [
    "The file related to an asset can be retrieved through the `download` method. The cell code below shows ho to download the image file associated to the asset into a folder named `img`:"
   ]
  },
  {
   "cell_type": "code",
   "execution_count": null,
   "metadata": {},
   "outputs": [],
   "source": [
    "# import os\n",
    "# from urllib.parse import urlparse\n",
    "\n",
    "# import requests\n",
    "# from pystac import Asset\n",
    "# from tqdm import tqdm\n",
    "\n",
    "# def download(asset: Asset, directory: str = None, chunk_size: int = 1024 * 16, **request_options) -> str:\n",
    "#     \"\"\"Smart download STAC Item asset.\n",
    "\n",
    "#     This method uses a checksum validation and a progress bar to monitor download status.\n",
    "#     \"\"\"\n",
    "#     if directory is None:\n",
    "#         directory = ''\n",
    "\n",
    "#     response = requests.get(asset.href, stream=True, **request_options)\n",
    "#     output_file = os.path.join(directory, urlparse(asset.href)[2].split('/')[-1])\n",
    "#     os.makedirs(directory, exist_ok=True)\n",
    "#     total_bytes = int(response.headers.get('content-length', 0))\n",
    "#     with tqdm.wrapattr(open(output_file, 'wb'), 'write', miniters=1, total=total_bytes, desc=os.path.basename(output_file)) as fout:\n",
    "#         for chunk in response.iter_content(chunk_size=chunk_size):\n",
    "#             fout.write(chunk)"
   ]
  },
  {
   "cell_type": "code",
   "execution_count": null,
   "metadata": {},
   "outputs": [],
   "source": [
    "# download(assets['BAND15'], 'img')"
   ]
  },
  {
   "cell_type": "markdown",
   "metadata": {},
   "source": [
    "In order to download all files related to an item, iterate over assets and download each one as following:"
   ]
  },
  {
   "cell_type": "code",
   "execution_count": null,
   "metadata": {},
   "outputs": [],
   "source": [
    "# for asset in assets.values():\n",
    "#     download(asset, 'images')"
   ]
  },
  {
   "cell_type": "markdown",
   "metadata": {},
   "source": [
    "# References\n",
    "<hr style=\"border:1px solid #0077b9;\">"
   ]
  },
  {
   "cell_type": "markdown",
   "metadata": {},
   "source": [
    "- [Spatio Temporal Asset Catalog Specification](https://stacspec.org/)\n",
    "\n",
    "\n",
    "- [Python Client Library for STAC Service](https://pystac-client.readthedocs.io/en/latest/)"
   ]
  },
  {
   "cell_type": "markdown",
   "metadata": {},
   "source": [
    "# See also the following Jupyter Notebooks\n",
    "<hr style=\"border:1px solid #0077b9;\">\n",
    "\n",
    "* [Image processing on images obtained through STAC](./stac-image-processing.ipynb)"
   ]
  }
 ],
 "metadata": {
  "colab": {
   "name": "techtalk.ipynb",
   "provenance": [],
   "toc_visible": true
  },
  "kernelspec": {
   "display_name": ".venv",
   "language": "python",
   "name": "python3"
  },
  "language_info": {
   "codemirror_mode": {
    "name": "ipython",
    "version": 3
   },
   "file_extension": ".py",
   "mimetype": "text/x-python",
   "name": "python",
   "nbconvert_exporter": "python",
   "pygments_lexer": "ipython3",
   "version": "3.10.12"
  }
 },
 "nbformat": 4,
 "nbformat_minor": 4
}
