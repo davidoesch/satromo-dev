{
 "cells": [
  {
   "cell_type": "markdown",
   "metadata": {},
   "source": [
    "# NDVI Generation Tutorial\n",
    "\n",
    "This notebook demonstrates how to generate NDVI (Normalized Difference Vegetation Index) for a specific coordinate using STAC (SpatioTemporal Asset Catalog) data."
   ]
  },
  {
   "cell_type": "markdown",
   "metadata": {},
   "source": [
    "## Step 1: Import required libraries"
   ]
  },
  {
   "cell_type": "code",
   "execution_count": 1,
   "metadata": {},
   "outputs": [],
   "source": [
    "import pystac_client\n",
    "import rasterio\n",
    "import numpy as np\n",
    "import matplotlib.pyplot as plt\n",
    "from datetime import datetime\n",
    "import pandas as pd\n",
    "import geopandas as gpd\n",
    "from shapely.geometry import Point\n",
    "\n",
    "from pyproj import CRS"
   ]
  },
  {
   "cell_type": "markdown",
   "metadata": {},
   "source": [
    "## Step 2: Define the coordinate and create a point"
   ]
  },
  {
   "cell_type": "code",
   "execution_count": 2,
   "metadata": {},
   "outputs": [],
   "source": [
    "# Define the coordinate in EPSG:2056\n",
    "x, y = 2574187.11, 1204941.00\n",
    "\n",
    "# Create a GeoDataFrame with the point\n",
    "point = gpd.GeoDataFrame({'geometry': [Point(x, y)]}, crs='EPSG:2056')\n",
    "\n",
    "# Transform the point to EPSG:4326 (WGS84) for STAC query\n",
    "point_wgs84 = point.to_crs('EPSG:4326')\n",
    "lon, lat = point_wgs84.geometry.x[0], point_wgs84.geometry.y[0]"
   ]
  },
  {
   "cell_type": "markdown",
   "metadata": {},
   "source": [
    "## Step 3: Connect to the STAC API and search for items"
   ]
  },
  {
   "cell_type": "code",
   "execution_count": 3,
   "metadata": {},
   "outputs": [
    {
     "name": "stdout",
     "output_type": "stream",
     "text": [
      "Found 16 items\n",
      "<Item id=2024-08-01t103031>\n",
      "<Item id=2024-08-03t101559>\n",
      "<Item id=2024-08-04t104021>\n",
      "<Item id=2024-08-06t102559>\n",
      "<Item id=2024-08-09t103629>\n"
     ]
    }
   ],
   "source": [
    "# Connect to the STAC API\n",
    "catalog = pystac_client.Client.open(\"https://data.geo.admin.ch/api/stac/v0.9/\")\n",
    "\n",
    "# Swisstopo finish : add the conformance classes :\n",
    "catalog.add_conforms_to(\"COLLECTIONS\")\n",
    "catalog.add_conforms_to(\"ITEM_SEARCH\")\n",
    "#for collection in catalog.get_collections():\n",
    "#    print(collection.id)\n",
    "\n",
    "\n",
    "# Search for items\n",
    "search = catalog.search(\n",
    "    collections=[\"ch.swisstopo.swisseo_s2-sr_v100\"],\n",
    "    intersects={\"type\": \"Point\", \"coordinates\": [lon, lat]},\n",
    "    datetime=\"2024-08-01/2024-08-31\"\n",
    ")\n",
    "\n",
    "items = list(search.items())\n",
    "print(f\"Found {len(items)} items\")\n",
    "\n",
    "# Display the first 5 items in the list\n",
    "for item in items[:5]:  # Change 5 to any number you want to display\n",
    "    print(item)"
   ]
  },
  {
   "cell_type": "markdown",
   "metadata": {},
   "source": [
    "## Step 4: Define a function to calculate NDVI"
   ]
  },
  {
   "cell_type": "code",
   "execution_count": 4,
   "metadata": {},
   "outputs": [],
   "source": [
    "def calculate_ndvi(nir, red):\n",
    "    return (nir.astype(float) - red.astype(float)) / (nir + red)"
   ]
  },
  {
   "cell_type": "markdown",
   "metadata": {},
   "source": [
    "## Step 5: Process items and calculate NDVI"
   ]
  },
  {
   "cell_type": "code",
   "execution_count": 5,
   "metadata": {},
   "outputs": [
    {
     "data": {
      "text/html": [
       "<div>\n",
       "<style scoped>\n",
       "    .dataframe tbody tr th:only-of-type {\n",
       "        vertical-align: middle;\n",
       "    }\n",
       "\n",
       "    .dataframe tbody tr th {\n",
       "        vertical-align: top;\n",
       "    }\n",
       "\n",
       "    .dataframe thead th {\n",
       "        text-align: right;\n",
       "    }\n",
       "</style>\n",
       "<table border=\"1\" class=\"dataframe\">\n",
       "  <thead>\n",
       "    <tr style=\"text-align: right;\">\n",
       "      <th></th>\n",
       "      <th>date</th>\n",
       "      <th>NDVI</th>\n",
       "    </tr>\n",
       "  </thead>\n",
       "  <tbody>\n",
       "    <tr>\n",
       "      <th>0</th>\n",
       "      <td>2024-08-01 10:30:31+00:00</td>\n",
       "      <td>0.850989</td>\n",
       "    </tr>\n",
       "    <tr>\n",
       "      <th>1</th>\n",
       "      <td>2024-08-03 10:15:59+00:00</td>\n",
       "      <td>0.000000</td>\n",
       "    </tr>\n",
       "    <tr>\n",
       "      <th>2</th>\n",
       "      <td>2024-08-04 10:40:21+00:00</td>\n",
       "      <td>0.000000</td>\n",
       "    </tr>\n",
       "    <tr>\n",
       "      <th>3</th>\n",
       "      <td>2024-08-06 10:25:59+00:00</td>\n",
       "      <td>0.690909</td>\n",
       "    </tr>\n",
       "    <tr>\n",
       "      <th>4</th>\n",
       "      <td>2024-08-09 10:36:29+00:00</td>\n",
       "      <td>0.000000</td>\n",
       "    </tr>\n",
       "  </tbody>\n",
       "</table>\n",
       "</div>"
      ],
      "text/plain": [
       "                       date      NDVI\n",
       "0 2024-08-01 10:30:31+00:00  0.850989\n",
       "1 2024-08-03 10:15:59+00:00  0.000000\n",
       "2 2024-08-04 10:40:21+00:00  0.000000\n",
       "3 2024-08-06 10:25:59+00:00  0.690909\n",
       "4 2024-08-09 10:36:29+00:00  0.000000"
      ]
     },
     "execution_count": 5,
     "metadata": {},
     "output_type": "execute_result"
    }
   ],
   "source": [
    "results = []\n",
    "\n",
    "for item in items:\n",
    "    date = item.properties['datetime']\n",
    "    \n",
    "    # Get the URL for the BANDS-10M asset\n",
    "    bands_10m_key = next(key for key in item.assets.keys() if key.endswith('_bands-10m.tif'))\n",
    "    bands_10m_url = item.assets[bands_10m_key].href\n",
    "    \n",
    "    # Read the bands\n",
    "    with rasterio.open(bands_10m_url) as src:\n",
    "        # Get pixel coordinates\n",
    "        py, px = src.index(x, y)\n",
    "        \n",
    "        # Read the pixel values\n",
    "        # B4 (RED) is the 1st band, B8 (NIR) is the 4th band\n",
    "        red_value = src.read(1, window=((py, py+1), (px, px+1)))[0, 0]\n",
    "        nir_value = src.read(4, window=((py, py+1), (px, px+1)))[0, 0]\n",
    "        \n",
    "        # Calculate NDVI\n",
    "        ndvi = calculate_ndvi(nir_value, red_value)\n",
    "        \n",
    "        # Append results without indexing into ndvi\n",
    "        results.append({'date': date, 'NDVI': ndvi})\n",
    "\n",
    "# Create a DataFrame from the results\n",
    "df = pd.DataFrame(results)\n",
    "df['date'] = pd.to_datetime(df['date'])\n",
    "df = df.sort_values('date')\n",
    "df.head()"
   ]
  },
  {
   "cell_type": "markdown",
   "metadata": {},
   "source": [
    "## Step 6: Plot the NDVI time series"
   ]
  },
  {
   "cell_type": "code",
   "execution_count": 6,
   "metadata": {},
   "outputs": [
    {
     "data": {
      "image/png": "[encoded data removed]",
      "text/plain": [
       "<Figure size 1200x600 with 1 Axes>"
      ]
     },
     "metadata": {},
     "output_type": "display_data"
    }
   ],
   "source": [
    "import matplotlib.pyplot as plt\n",
    "\n",
    "# Filter the DataFrame to exclude zero NDVI values\n",
    "filtered_df = df[df['NDVI'] > 0]\n",
    "\n",
    "# Plotting the NDVI time series\n",
    "plt.figure(figsize=(12, 6))\n",
    "plt.plot(filtered_df['date'], filtered_df['NDVI'], 'o-')\n",
    "plt.title('NDVI Time Series')\n",
    "plt.xlabel('Date')\n",
    "plt.ylabel('NDVI')\n",
    "plt.grid(True)\n",
    "plt.xticks(rotation=45)  # Rotate x-axis labels for better readability\n",
    "plt.tight_layout()  # Adjust layout to prevent clipping of labels\n",
    "plt.show()"
   ]
  },
  {
   "cell_type": "markdown",
   "metadata": {},
   "source": [
    "## Step 7: Display the data in a table"
   ]
  },
  {
   "cell_type": "code",
   "execution_count": 7,
   "metadata": {},
   "outputs": [
    {
     "data": {
      "text/html": [
       "<div>\n",
       "<style scoped>\n",
       "    .dataframe tbody tr th:only-of-type {\n",
       "        vertical-align: middle;\n",
       "    }\n",
       "\n",
       "    .dataframe tbody tr th {\n",
       "        vertical-align: top;\n",
       "    }\n",
       "\n",
       "    .dataframe thead th {\n",
       "        text-align: right;\n",
       "    }\n",
       "</style>\n",
       "<table border=\"1\" class=\"dataframe\">\n",
       "  <thead>\n",
       "    <tr style=\"text-align: right;\">\n",
       "      <th></th>\n",
       "      <th>date</th>\n",
       "      <th>NDVI</th>\n",
       "    </tr>\n",
       "  </thead>\n",
       "  <tbody>\n",
       "    <tr>\n",
       "      <th>0</th>\n",
       "      <td>2024-08-01 10:30:31+00:00</td>\n",
       "      <td>0.850989</td>\n",
       "    </tr>\n",
       "    <tr>\n",
       "      <th>1</th>\n",
       "      <td>2024-08-03 10:15:59+00:00</td>\n",
       "      <td>0.000000</td>\n",
       "    </tr>\n",
       "    <tr>\n",
       "      <th>2</th>\n",
       "      <td>2024-08-04 10:40:21+00:00</td>\n",
       "      <td>0.000000</td>\n",
       "    </tr>\n",
       "    <tr>\n",
       "      <th>3</th>\n",
       "      <td>2024-08-06 10:25:59+00:00</td>\n",
       "      <td>0.690909</td>\n",
       "    </tr>\n",
       "    <tr>\n",
       "      <th>4</th>\n",
       "      <td>2024-08-09 10:36:29+00:00</td>\n",
       "      <td>0.000000</td>\n",
       "    </tr>\n",
       "    <tr>\n",
       "      <th>15</th>\n",
       "      <td>2024-08-11 10:30:31+00:00</td>\n",
       "      <td>0.884624</td>\n",
       "    </tr>\n",
       "    <tr>\n",
       "      <th>5</th>\n",
       "      <td>2024-08-13 10:15:59+00:00</td>\n",
       "      <td>0.000000</td>\n",
       "    </tr>\n",
       "    <tr>\n",
       "      <th>6</th>\n",
       "      <td>2024-08-14 10:40:21+00:00</td>\n",
       "      <td>0.000000</td>\n",
       "    </tr>\n",
       "    <tr>\n",
       "      <th>7</th>\n",
       "      <td>2024-08-16 10:25:59+00:00</td>\n",
       "      <td>0.872525</td>\n",
       "    </tr>\n",
       "    <tr>\n",
       "      <th>8</th>\n",
       "      <td>2024-08-19 10:36:29+00:00</td>\n",
       "      <td>0.000000</td>\n",
       "    </tr>\n",
       "    <tr>\n",
       "      <th>9</th>\n",
       "      <td>2024-08-21 10:30:21+00:00</td>\n",
       "      <td>0.431558</td>\n",
       "    </tr>\n",
       "    <tr>\n",
       "      <th>10</th>\n",
       "      <td>2024-08-23 10:15:59+00:00</td>\n",
       "      <td>0.000000</td>\n",
       "    </tr>\n",
       "    <tr>\n",
       "      <th>11</th>\n",
       "      <td>2024-08-24 10:40:21+00:00</td>\n",
       "      <td>0.000000</td>\n",
       "    </tr>\n",
       "    <tr>\n",
       "      <th>12</th>\n",
       "      <td>2024-08-28 10:20:21+00:00</td>\n",
       "      <td>0.000000</td>\n",
       "    </tr>\n",
       "    <tr>\n",
       "      <th>13</th>\n",
       "      <td>2024-08-29 10:36:29+00:00</td>\n",
       "      <td>0.000000</td>\n",
       "    </tr>\n",
       "    <tr>\n",
       "      <th>14</th>\n",
       "      <td>2024-08-31 10:30:21+00:00</td>\n",
       "      <td>0.854057</td>\n",
       "    </tr>\n",
       "  </tbody>\n",
       "</table>\n",
       "</div>"
      ],
      "text/plain": [
       "                        date      NDVI\n",
       "0  2024-08-01 10:30:31+00:00  0.850989\n",
       "1  2024-08-03 10:15:59+00:00  0.000000\n",
       "2  2024-08-04 10:40:21+00:00  0.000000\n",
       "3  2024-08-06 10:25:59+00:00  0.690909\n",
       "4  2024-08-09 10:36:29+00:00  0.000000\n",
       "15 2024-08-11 10:30:31+00:00  0.884624\n",
       "5  2024-08-13 10:15:59+00:00  0.000000\n",
       "6  2024-08-14 10:40:21+00:00  0.000000\n",
       "7  2024-08-16 10:25:59+00:00  0.872525\n",
       "8  2024-08-19 10:36:29+00:00  0.000000\n",
       "9  2024-08-21 10:30:21+00:00  0.431558\n",
       "10 2024-08-23 10:15:59+00:00  0.000000\n",
       "11 2024-08-24 10:40:21+00:00  0.000000\n",
       "12 2024-08-28 10:20:21+00:00  0.000000\n",
       "13 2024-08-29 10:36:29+00:00  0.000000\n",
       "14 2024-08-31 10:30:21+00:00  0.854057"
      ]
     },
     "execution_count": 7,
     "metadata": {},
     "output_type": "execute_result"
    }
   ],
   "source": [
    "df"
   ]
  }
 ],
 "metadata": {
  "kernelspec": {
   "display_name": ".venv",
   "language": "python",
   "name": "python3"
  },
  "language_info": {
   "codemirror_mode": {
    "name": "ipython",
    "version": 3
   },
   "file_extension": ".py",
   "mimetype": "text/x-python",
   "name": "python",
   "nbconvert_exporter": "python",
   "pygments_lexer": "ipython3",
   "version": "3.10.12"
  }
 },
 "nbformat": 4,
 "nbformat_minor": 4
}
